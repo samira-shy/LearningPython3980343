{
 "cells": [
  {
   "cell_type": "code",
   "execution_count": 1,
   "id": "5d83b38a-2b7c-4fac-87c4-44557d00a614",
   "metadata": {},
   "outputs": [
    {
     "name": "stdout",
     "output_type": "stream",
     "text": [
      "Hello World\n"
     ]
    }
   ],
   "source": [
    "# LinkedIn Learning Python course by Joe Marini\n",
    "# Example file for HelloWorld\n",
    "print(\"Hello World\")"
   ]
  },
  {
   "cell_type": "code",
   "execution_count": null,
   "id": "191893d8-170e-40fc-b303-5edd0fb7022f",
   "metadata": {},
   "outputs": [],
   "source": [
    "name = input(\"What is your name\")"
   ]
  },
  {
   "cell_type": "code",
   "execution_count": null,
   "id": "8dc01f4b-4968-4a3a-842a-3c699063befd",
   "metadata": {},
   "outputs": [],
   "source": [
    "print(f'nice meeting you {name}')"
   ]
  },
  {
   "cell_type": "code",
   "execution_count": null,
   "id": "6d4f0b06-b8a8-4023-a25b-0be470a4d855",
   "metadata": {},
   "outputs": [],
   "source": [
    "# or\n",
    "print('nice meeting you {0}'.format(name))"
   ]
  }
 ],
 "metadata": {
  "kernelspec": {
   "display_name": "Python 3 (ipykernel)",
   "language": "python",
   "name": "python3"
  },
  "language_info": {
   "codemirror_mode": {
    "name": "ipython",
    "version": 3
   },
   "file_extension": ".py",
   "mimetype": "text/x-python",
   "name": "python",
   "nbconvert_exporter": "python",
   "pygments_lexer": "ipython3",
   "version": "3.12.7"
  }
 },
 "nbformat": 4,
 "nbformat_minor": 5
}
